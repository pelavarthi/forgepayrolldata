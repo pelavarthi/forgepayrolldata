{
 "cells": [
  {
   "cell_type": "code",
   "execution_count": 15,
   "id": "1cc1cb72-ef8b-44e8-beb9-ef604e8099ea",
   "metadata": {
    "tags": []
   },
   "outputs": [],
   "source": [
    "import pymongo\n",
    "from pymongo import MongoClient\n",
    "import pandas as pd"
   ]
  },
  {
   "cell_type": "code",
   "execution_count": 16,
   "id": "ee89fb6c-58e2-477f-8f72-d5c6aade85a7",
   "metadata": {
    "tags": []
   },
   "outputs": [],
   "source": [
    "client = MongoClient('localhost', 27017)"
   ]
  },
  {
   "cell_type": "code",
   "execution_count": 17,
   "id": "df2dd4d6-fcd7-4052-a57c-dcbd1b10b8f4",
   "metadata": {
    "tags": []
   },
   "outputs": [],
   "source": [
    "db = client.projectTwo"
   ]
  },
  {
   "cell_type": "code",
   "execution_count": 18,
   "id": "ce6907be-bfb3-47d2-bd56-3d2796ee23ed",
   "metadata": {
    "tags": []
   },
   "outputs": [],
   "source": [
    "employees = pd.read_csv('/Users/joshpeters/Desktop/Forge/Launch Project 2 - Employees.csv')\n",
    "employees = employees.to_dict('records')"
   ]
  },
  {
   "cell_type": "code",
   "execution_count": 19,
   "id": "e6e16380-06a3-45b5-97a0-26c433ff5dee",
   "metadata": {
    "tags": []
   },
   "outputs": [],
   "source": [
    "employee_collection = db.employees"
   ]
  },
  {
   "cell_type": "code",
   "execution_count": 20,
   "id": "7932d1f6-c776-4b40-83cf-9ca4bc10d8af",
   "metadata": {
    "tags": []
   },
   "outputs": [
    {
     "data": {
      "text/plain": [
       "InsertManyResult([ObjectId('68361ccb61c07dc26d01b3c6'), ObjectId('68361ccb61c07dc26d01b3c7'), ObjectId('68361ccb61c07dc26d01b3c8'), ObjectId('68361ccb61c07dc26d01b3c9'), ObjectId('68361ccb61c07dc26d01b3ca'), ObjectId('68361ccb61c07dc26d01b3cb'), ObjectId('68361ccb61c07dc26d01b3cc'), ObjectId('68361ccb61c07dc26d01b3cd'), ObjectId('68361ccb61c07dc26d01b3ce'), ObjectId('68361ccb61c07dc26d01b3cf'), ObjectId('68361ccb61c07dc26d01b3d0'), ObjectId('68361ccb61c07dc26d01b3d1'), ObjectId('68361ccb61c07dc26d01b3d2'), ObjectId('68361ccb61c07dc26d01b3d3'), ObjectId('68361ccb61c07dc26d01b3d4'), ObjectId('68361ccb61c07dc26d01b3d5'), ObjectId('68361ccb61c07dc26d01b3d6'), ObjectId('68361ccb61c07dc26d01b3d7'), ObjectId('68361ccb61c07dc26d01b3d8'), ObjectId('68361ccb61c07dc26d01b3d9'), ObjectId('68361ccb61c07dc26d01b3da'), ObjectId('68361ccb61c07dc26d01b3db'), ObjectId('68361ccb61c07dc26d01b3dc'), ObjectId('68361ccb61c07dc26d01b3dd'), ObjectId('68361ccb61c07dc26d01b3de'), ObjectId('68361ccb61c07dc26d01b3df'), ObjectId('68361ccb61c07dc26d01b3e0'), ObjectId('68361ccb61c07dc26d01b3e1'), ObjectId('68361ccb61c07dc26d01b3e2'), ObjectId('68361ccb61c07dc26d01b3e3'), ObjectId('68361ccb61c07dc26d01b3e4'), ObjectId('68361ccb61c07dc26d01b3e5'), ObjectId('68361ccb61c07dc26d01b3e6'), ObjectId('68361ccb61c07dc26d01b3e7'), ObjectId('68361ccb61c07dc26d01b3e8'), ObjectId('68361ccb61c07dc26d01b3e9'), ObjectId('68361ccb61c07dc26d01b3ea'), ObjectId('68361ccb61c07dc26d01b3eb'), ObjectId('68361ccb61c07dc26d01b3ec'), ObjectId('68361ccb61c07dc26d01b3ed'), ObjectId('68361ccb61c07dc26d01b3ee'), ObjectId('68361ccb61c07dc26d01b3ef'), ObjectId('68361ccb61c07dc26d01b3f0'), ObjectId('68361ccb61c07dc26d01b3f1'), ObjectId('68361ccb61c07dc26d01b3f2'), ObjectId('68361ccb61c07dc26d01b3f3'), ObjectId('68361ccb61c07dc26d01b3f4'), ObjectId('68361ccb61c07dc26d01b3f5'), ObjectId('68361ccb61c07dc26d01b3f6'), ObjectId('68361ccb61c07dc26d01b3f7'), ObjectId('68361ccb61c07dc26d01b3f8'), ObjectId('68361ccb61c07dc26d01b3f9'), ObjectId('68361ccb61c07dc26d01b3fa'), ObjectId('68361ccb61c07dc26d01b3fb'), ObjectId('68361ccb61c07dc26d01b3fc')], acknowledged=True)"
      ]
     },
     "execution_count": 20,
     "metadata": {},
     "output_type": "execute_result"
    }
   ],
   "source": [
    "employee_collection.insert_many(employees)"
   ]
  },
  {
   "cell_type": "code",
   "execution_count": 22,
   "id": "5a93d37d-2b69-4c39-9a34-d0c1076bf4a4",
   "metadata": {
    "tags": []
   },
   "outputs": [],
   "source": [
    "departments = pd.read_csv('/Users/joshpeters/Desktop/Forge/Launch Project 2 - Departments.csv')\n",
    "salaries = pd.read_csv('/Users/joshpeters/Desktop/Forge/Launch Project 2 - Salaries.csv')\n",
    "taxes = pd.read_csv('/Users/joshpeters/Desktop/Forge/Launch Project 2 - Taxes.csv')"
   ]
  },
  {
   "cell_type": "code",
   "execution_count": 23,
   "id": "af8b550d-f77f-4ce8-8213-6a63ab2d643a",
   "metadata": {
    "tags": []
   },
   "outputs": [],
   "source": [
    "departments = departments.to_dict('records')\n",
    "salaries = salaries.to_dict('records')\n",
    "taxes = taxes.to_dict('records')"
   ]
  },
  {
   "cell_type": "code",
   "execution_count": 24,
   "id": "ceb10594-4426-446c-b3a9-3202e57b5b22",
   "metadata": {
    "tags": []
   },
   "outputs": [],
   "source": [
    "department_collection = db.departments\n",
    "salary_collection = db.salaries\n",
    "tax_collection = db.taxes"
   ]
  },
  {
   "cell_type": "code",
   "execution_count": 25,
   "id": "a95dd337-d6fc-48c8-816f-eb1e4143b6a1",
   "metadata": {
    "tags": []
   },
   "outputs": [
    {
     "data": {
      "text/plain": [
       "InsertManyResult([ObjectId('68361d7a61c07dc26d01b43a'), ObjectId('68361d7a61c07dc26d01b43b'), ObjectId('68361d7a61c07dc26d01b43c'), ObjectId('68361d7a61c07dc26d01b43d'), ObjectId('68361d7a61c07dc26d01b43e'), ObjectId('68361d7a61c07dc26d01b43f'), ObjectId('68361d7a61c07dc26d01b440'), ObjectId('68361d7a61c07dc26d01b441'), ObjectId('68361d7a61c07dc26d01b442'), ObjectId('68361d7a61c07dc26d01b443'), ObjectId('68361d7a61c07dc26d01b444'), ObjectId('68361d7a61c07dc26d01b445'), ObjectId('68361d7a61c07dc26d01b446'), ObjectId('68361d7a61c07dc26d01b447'), ObjectId('68361d7a61c07dc26d01b448'), ObjectId('68361d7a61c07dc26d01b449'), ObjectId('68361d7a61c07dc26d01b44a'), ObjectId('68361d7a61c07dc26d01b44b'), ObjectId('68361d7a61c07dc26d01b44c'), ObjectId('68361d7a61c07dc26d01b44d'), ObjectId('68361d7a61c07dc26d01b44e'), ObjectId('68361d7a61c07dc26d01b44f'), ObjectId('68361d7a61c07dc26d01b450'), ObjectId('68361d7a61c07dc26d01b451'), ObjectId('68361d7a61c07dc26d01b452'), ObjectId('68361d7a61c07dc26d01b453'), ObjectId('68361d7a61c07dc26d01b454'), ObjectId('68361d7a61c07dc26d01b455'), ObjectId('68361d7a61c07dc26d01b456'), ObjectId('68361d7a61c07dc26d01b457'), ObjectId('68361d7a61c07dc26d01b458'), ObjectId('68361d7a61c07dc26d01b459'), ObjectId('68361d7a61c07dc26d01b45a'), ObjectId('68361d7a61c07dc26d01b45b'), ObjectId('68361d7a61c07dc26d01b45c'), ObjectId('68361d7a61c07dc26d01b45d'), ObjectId('68361d7a61c07dc26d01b45e'), ObjectId('68361d7a61c07dc26d01b45f'), ObjectId('68361d7a61c07dc26d01b460'), ObjectId('68361d7a61c07dc26d01b461'), ObjectId('68361d7a61c07dc26d01b462'), ObjectId('68361d7a61c07dc26d01b463'), ObjectId('68361d7a61c07dc26d01b464'), ObjectId('68361d7a61c07dc26d01b465'), ObjectId('68361d7a61c07dc26d01b466'), ObjectId('68361d7a61c07dc26d01b467'), ObjectId('68361d7a61c07dc26d01b468'), ObjectId('68361d7a61c07dc26d01b469'), ObjectId('68361d7a61c07dc26d01b46a'), ObjectId('68361d7a61c07dc26d01b46b'), ObjectId('68361d7a61c07dc26d01b46c'), ObjectId('68361d7a61c07dc26d01b46d'), ObjectId('68361d7a61c07dc26d01b46e'), ObjectId('68361d7a61c07dc26d01b46f'), ObjectId('68361d7a61c07dc26d01b470')], acknowledged=True)"
      ]
     },
     "execution_count": 25,
     "metadata": {},
     "output_type": "execute_result"
    }
   ],
   "source": [
    "department_collection.insert_many(departments)\n",
    "salary_collection.insert_many(salaries)\n",
    "tax_collection.insert_many(taxes)"
   ]
  },
  {
   "cell_type": "code",
   "execution_count": 27,
   "id": "83dc31db-c87a-4a0f-889e-1499ac934ae6",
   "metadata": {
    "tags": []
   },
   "outputs": [
    {
     "data": {
      "text/plain": [
       "<pymongo.synchronous.cursor.Cursor at 0x11ab3dcd0>"
      ]
     },
     "execution_count": 27,
     "metadata": {},
     "output_type": "execute_result"
    }
   ],
   "source": [
    "query = {'state':'NY'}\n",
    "result1 = employee_collection.find(query)\n",
    "result1"
   ]
  },
  {
   "cell_type": "code",
   "execution_count": 30,
   "id": "2b17989e-a0d0-424d-9dac-11a921be0ced",
   "metadata": {
    "tags": []
   },
   "outputs": [
    {
     "name": "stdout",
     "output_type": "stream",
     "text": [
      "{'_id': ObjectId('68361ccb61c07dc26d01b3c6'), 'employee_id': 1001, 'full_name': 'Michael Smith', 'department_id': 1, 'manager_id': nan, 'job_title': 'Chief Executive Officer', 'state': 'NY'}\n",
      "{'_id': ObjectId('68361ccb61c07dc26d01b3c7'), 'employee_id': 1002, 'full_name': 'Sarah Davis', 'department_id': 1, 'manager_id': 1001.0, 'job_title': 'Executive Assistant', 'state': 'NY'}\n",
      "{'_id': ObjectId('68361ccb61c07dc26d01b3c8'), 'employee_id': 1003, 'full_name': 'Joseph Jones', 'department_id': 1, 'manager_id': 1001.0, 'job_title': 'Office Manager', 'state': 'NY'}\n",
      "{'_id': ObjectId('68361ccb61c07dc26d01b3c9'), 'employee_id': 1004, 'full_name': 'Patricia Johnson', 'department_id': 2, 'manager_id': 1001.0, 'job_title': 'Chief Financial Officer', 'state': 'NY'}\n",
      "{'_id': ObjectId('68361ccb61c07dc26d01b3ca'), 'employee_id': 1005, 'full_name': 'Charles Brown', 'department_id': 2, 'manager_id': 1004.0, 'job_title': 'Accounting Manager', 'state': 'NY'}\n",
      "{'_id': ObjectId('68361ccb61c07dc26d01b3cb'), 'employee_id': 1006, 'full_name': 'Steven Miller', 'department_id': 2, 'manager_id': 1005.0, 'job_title': 'Senior Accountant', 'state': 'NY'}\n",
      "{'_id': ObjectId('68361ccb61c07dc26d01b3cc'), 'employee_id': 1007, 'full_name': 'Jennifer Garcia', 'department_id': 2, 'manager_id': 1005.0, 'job_title': 'Accountant', 'state': 'NY'}\n",
      "{'_id': ObjectId('68361ccb61c07dc26d01b3cd'), 'employee_id': 1008, 'full_name': 'Matthew Martinez', 'department_id': 2, 'manager_id': 1005.0, 'job_title': 'Financial Analyst', 'state': 'NY'}\n",
      "{'_id': ObjectId('68361ccb61c07dc26d01b3ce'), 'employee_id': 1009, 'full_name': 'Linda Hernandez', 'department_id': 2, 'manager_id': 1005.0, 'job_title': 'Payroll Specialist', 'state': 'NY'}\n"
     ]
    }
   ],
   "source": [
    "for e in result1:\n",
    "    print(e)"
   ]
  },
  {
   "cell_type": "code",
   "execution_count": 31,
   "id": "50af345a-e1e0-4954-be27-3f3277de7fd1",
   "metadata": {
    "tags": []
   },
   "outputs": [
    {
     "name": "stdout",
     "output_type": "stream",
     "text": [
      "{'_id': ObjectId('68361d7a61c07dc26d01b403'), 'employee_id': 1001, 'base_salary': 300000, 'bonus': 60000, 'deductions': 32248}\n",
      "{'_id': ObjectId('68361d7a61c07dc26d01b406'), 'employee_id': 1004, 'base_salary': 230000, 'bonus': 30000, 'deductions': 22022}\n",
      "{'_id': ObjectId('68361d7a61c07dc26d01b407'), 'employee_id': 1005, 'base_salary': 119431, 'bonus': 16363, 'deductions': 11872}\n",
      "{'_id': ObjectId('68361d7a61c07dc26d01b408'), 'employee_id': 1006, 'base_salary': 103892, 'bonus': 30000, 'deductions': 10304}\n",
      "{'_id': ObjectId('68361d7a61c07dc26d01b40c'), 'employee_id': 1010, 'base_salary': 109886, 'bonus': 14698, 'deductions': 8931}\n",
      "{'_id': ObjectId('68361d7a61c07dc26d01b411'), 'employee_id': 1015, 'base_salary': 230000, 'bonus': 30000, 'deductions': 15238}\n",
      "{'_id': ObjectId('68361d7a61c07dc26d01b412'), 'employee_id': 1016, 'base_salary': 118981, 'bonus': 13296, 'deductions': 7588}\n",
      "{'_id': ObjectId('68361d7a61c07dc26d01b413'), 'employee_id': 1017, 'base_salary': 105410, 'bonus': 30000, 'deductions': 7402}\n",
      "{'_id': ObjectId('68361d7a61c07dc26d01b41d'), 'employee_id': 1027, 'base_salary': 160000, 'bonus': 25000, 'deductions': 9898}\n",
      "{'_id': ObjectId('68361d7a61c07dc26d01b41e'), 'employee_id': 1028, 'base_salary': 104083, 'bonus': 30000, 'deductions': 12156}\n",
      "{'_id': ObjectId('68361d7a61c07dc26d01b426'), 'employee_id': 1036, 'base_salary': 160000, 'bonus': 25000, 'deductions': 10765}\n",
      "{'_id': ObjectId('68361d7a61c07dc26d01b428'), 'employee_id': 1038, 'base_salary': 114126, 'bonus': 14075, 'deductions': 8047}\n",
      "{'_id': ObjectId('68361d7a61c07dc26d01b432'), 'employee_id': 1048, 'base_salary': 107425, 'bonus': 30000, 'deductions': 9061}\n"
     ]
    }
   ],
   "source": [
    "query = {'base_salary':{'$gt':100000}}\n",
    "result2 = salary_collection.find(query)\n",
    "\n",
    "for e in result2:\n",
    "    print(e)"
   ]
  },
  {
   "cell_type": "code",
   "execution_count": 32,
   "id": "839c544a-26bb-4551-b910-15f44152ecdf",
   "metadata": {
    "tags": []
   },
   "outputs": [
    {
     "data": {
      "text/plain": [
       "<pymongo.synchronous.command_cursor.CommandCursor at 0x1067be810>"
      ]
     },
     "execution_count": 32,
     "metadata": {},
     "output_type": "execute_result"
    }
   ],
   "source": [
    "pipeline = [\n",
    "    {\n",
    "        \"$lookup\": {\n",
    "            \"from\": \"employees\",\n",
    "            \"localField\": \"department_id\",\n",
    "            \"foreignField\": \"department_id\",\n",
    "            \"as\": \"employees\"\n",
    "        }\n",
    "    },\n",
    "    {\n",
    "        \"$unwind\": {\n",
    "            \"path\": \"$employees\",\n",
    "            \"preserveNullAndEmptyArrays\": True\n",
    "        }\n",
    "    },\n",
    "    {\n",
    "        \"$lookup\": {\n",
    "            \"from\": \"salaries\",\n",
    "            \"localField\": \"employees.employee_id\",\n",
    "            \"foreignField\": \"employee_id\",\n",
    "            \"as\": \"salary\"\n",
    "        }\n",
    "    },\n",
    "    {\n",
    "        \"$lookup\": {\n",
    "            \"from\": \"taxes\",\n",
    "            \"localField\": \"employees.employee_id\",\n",
    "            \"foreignField\": \"employee_id\",\n",
    "            \"as\": \"tax\"\n",
    "        }\n",
    "    },\n",
    "    {\n",
    "        \"$addFields\": {\n",
    "            \"employees.salary\": {\n",
    "                \"$arrayElemAt\": [\"$salary\", 0]\n",
    "            },\n",
    "            \"employees.tax\": {\n",
    "                \"$arrayElemAt\": [\"$tax\", 0]\n",
    "            }\n",
    "        }\n",
    "    },\n",
    "    {\n",
    "        \"$group\": {\n",
    "            \"_id\": \"$department_id\",\n",
    "            \"department_name\": {\"$first\": \"$department_name\"},\n",
    "            \"location\": {\"$first\": \"$location\"},\n",
    "            \"budget\": {\"$first\": \"$budget\"},\n",
    "            \"employees\": {\"$push\": \"$employees\"}\n",
    "        }\n",
    "    },\n",
    "    {\n",
    "        \"$project\": {\n",
    "            \"_id\": 0,\n",
    "            \"department_id\": \"$_id\",\n",
    "            \"department_name\": 1,\n",
    "            \"location\": 1,\n",
    "            \"budget\": 1,\n",
    "            \"employees\": 1\n",
    "        }\n",
    "    },\n",
    "    {\n",
    "        \"$out\": \"departments_nested\"\n",
    "    }\n",
    "]\n",
    "\n",
    "db.departments.aggregate(pipeline)"
   ]
  },
  {
   "cell_type": "code",
   "execution_count": 47,
   "id": "5cd8f1b0-17d6-4933-b97b-6515a3b58046",
   "metadata": {
    "tags": []
   },
   "outputs": [],
   "source": [
    "pipeline_by_state = [\n",
    "    {\"$unwind\": \"$employees\"},\n",
    "    {\"$match\": {\"employees.salary.base_salary\": {\"$exists\": True}}},\n",
    "    {\n",
    "        \"$group\": {\n",
    "            \"_id\": \"$employees.state\",\n",
    "            \"salaries\": {\"$push\": \"$employees.salary.base_salary\"}\n",
    "        }\n",
    "    },\n",
    "    {\n",
    "        \"$project\": {\n",
    "            \"state\": \"$_id\",\n",
    "            \"salaries\": {\"$sortArray\": {\"input\": \"$salaries\", \"sortBy\": 1}},\n",
    "            \"count\": {\"$size\": \"$salaries\"}\n",
    "        }\n",
    "    },\n",
    "    {\n",
    "        \"$project\": {\n",
    "            \"state\": 1,\n",
    "            \"median_salary\": {\n",
    "                \"$cond\": {\n",
    "                    \"if\": {\"$eq\": [{\"$mod\": [\"$count\", 2]}, 0]},\n",
    "                    \"then\": {\n",
    "                        \"$avg\": [\n",
    "                            {\"$arrayElemAt\": [\"$salaries\", {\"$subtract\": [{\"$divide\": [\"$count\", 2]}, 1]}]},\n",
    "                            {\"$arrayElemAt\": [\"$salaries\", {\"$divide\": [\"$count\", 2]}]}\n",
    "                        ]\n",
    "                    },\n",
    "                    \"else\": {\n",
    "                        \"$arrayElemAt\": [\"$salaries\", {\"$floor\": {\"$divide\": [\"$count\", 2]}}]\n",
    "                    }\n",
    "                }\n",
    "            }\n",
    "        }\n",
    "    }\n",
    "]\n",
    "\n",
    "result_by_state = list(db.departments_nested.aggregate(pipeline_by_state))"
   ]
  },
  {
   "cell_type": "code",
   "execution_count": 48,
   "id": "0dbb52b2-b957-4a55-90b3-fd4b998a3d92",
   "metadata": {
    "tags": []
   },
   "outputs": [
    {
     "data": {
      "text/plain": [
       "[{'_id': 'IL', 'state': 'IL', 'median_salary': 76894},\n",
       " {'_id': 'TX', 'state': 'TX', 'median_salary': 70000.0},\n",
       " {'_id': 'CA', 'state': 'CA', 'median_salary': 90721.0},\n",
       " {'_id': 'FL', 'state': 'FL', 'median_salary': 64326},\n",
       " {'_id': 'NY', 'state': 'NY', 'median_salary': 98102}]"
      ]
     },
     "execution_count": 48,
     "metadata": {},
     "output_type": "execute_result"
    }
   ],
   "source": [
    "result_by_state"
   ]
  },
  {
   "cell_type": "code",
   "execution_count": 49,
   "id": "d7f58d46-766e-427e-bd31-f0b7b3095a58",
   "metadata": {
    "tags": []
   },
   "outputs": [],
   "source": [
    "pipeline_by_role = [\n",
    "    {\"$unwind\": \"$employees\"},\n",
    "    {\"$match\": {\"employees.salary.base_salary\": {\"$exists\": True}}},\n",
    "    {\n",
    "        \"$group\": {\n",
    "            \"_id\": \"$employees.job_title\",\n",
    "            \"salaries\": {\"$push\": \"$employees.salary.base_salary\"}\n",
    "        }\n",
    "    },\n",
    "    {\n",
    "        \"$project\": {\n",
    "            \"job_title\": \"$_id\",\n",
    "            \"salaries\": {\"$sortArray\": {\"input\": \"$salaries\", \"sortBy\": 1}},\n",
    "            \"count\": {\"$size\": \"$salaries\"}\n",
    "        }\n",
    "    },\n",
    "    {\n",
    "        \"$project\": {\n",
    "            \"job_title\": 1,\n",
    "            \"median_salary\": {\n",
    "                \"$cond\": {\n",
    "                    \"if\": {\"$eq\": [{\"$mod\": [\"$count\", 2]}, 0]},\n",
    "                    \"then\": {\n",
    "                        \"$avg\": [\n",
    "                            {\"$arrayElemAt\": [\"$salaries\", {\"$subtract\": [{\"$divide\": [\"$count\", 2]}, 1]}]},\n",
    "                            {\"$arrayElemAt\": [\"$salaries\", {\"$divide\": [\"$count\", 2]}]}\n",
    "                        ]\n",
    "                    },\n",
    "                    \"else\": {\n",
    "                        \"$arrayElemAt\": [\"$salaries\", {\"$floor\": {\"$divide\": [\"$count\", 2]}}]\n",
    "                    }\n",
    "                }\n",
    "            }\n",
    "        }\n",
    "    }\n",
    "]\n",
    "\n",
    "result_by_role = list(db.departments_nested.aggregate(pipeline_by_role))"
   ]
  },
  {
   "cell_type": "code",
   "execution_count": 50,
   "id": "6d3c0956-0d26-4f79-b6d9-3ab2dd9cad5e",
   "metadata": {
    "tags": []
   },
   "outputs": [
    {
     "data": {
      "text/plain": [
       "[{'_id': 'Marketing Director',\n",
       "  'job_title': 'Marketing Director',\n",
       "  'median_salary': 160000},\n",
       " {'_id': 'Executive Assistant',\n",
       "  'job_title': 'Executive Assistant',\n",
       "  'median_salary': 55745},\n",
       " {'_id': 'Marketing Specialist',\n",
       "  'job_title': 'Marketing Specialist',\n",
       "  'median_salary': 70000},\n",
       " {'_id': 'Software Engineer',\n",
       "  'job_title': 'Software Engineer',\n",
       "  'median_salary': 97156.0},\n",
       " {'_id': 'Public Relations Specialist',\n",
       "  'job_title': 'Public Relations Specialist',\n",
       "  'median_salary': 70000},\n",
       " {'_id': 'SEO Specialist',\n",
       "  'job_title': 'SEO Specialist',\n",
       "  'median_salary': 70000},\n",
       " {'_id': 'Senior Software Engineer',\n",
       "  'job_title': 'Senior Software Engineer',\n",
       "  'median_salary': 105410},\n",
       " {'_id': 'IT Support Specialist',\n",
       "  'job_title': 'IT Support Specialist',\n",
       "  'median_salary': 70000.0},\n",
       " {'_id': 'Sales Director',\n",
       "  'job_title': 'Sales Director',\n",
       "  'median_salary': 160000},\n",
       " {'_id': 'Payroll Specialist',\n",
       "  'job_title': 'Payroll Specialist',\n",
       "  'median_salary': 70000},\n",
       " {'_id': 'Content Strategist',\n",
       "  'job_title': 'Content Strategist',\n",
       "  'median_salary': 78984},\n",
       " {'_id': 'Graphic Designer',\n",
       "  'job_title': 'Graphic Designer',\n",
       "  'median_salary': 76894},\n",
       " {'_id': 'HR Manager', 'job_title': 'HR Manager', 'median_salary': 109886},\n",
       " {'_id': 'HR Generalist',\n",
       "  'job_title': 'HR Generalist',\n",
       "  'median_salary': 64326},\n",
       " {'_id': 'Chief Financial Officer',\n",
       "  'job_title': 'Chief Financial Officer',\n",
       "  'median_salary': 230000},\n",
       " {'_id': 'Sales Associate',\n",
       "  'job_title': 'Sales Associate',\n",
       "  'median_salary': 50000.0},\n",
       " {'_id': 'Accountant', 'job_title': 'Accountant', 'median_salary': 60378},\n",
       " {'_id': 'Social Media Coordinator',\n",
       "  'job_title': 'Social Media Coordinator',\n",
       "  'median_salary': 55596},\n",
       " {'_id': 'Senior Accountant',\n",
       "  'job_title': 'Senior Accountant',\n",
       "  'median_salary': 103892},\n",
       " {'_id': 'Senior Sales Executive',\n",
       "  'job_title': 'Senior Sales Executive',\n",
       "  'median_salary': 100504.5},\n",
       " {'_id': 'Network Engineer',\n",
       "  'job_title': 'Network Engineer',\n",
       "  'median_salary': 87787},\n",
       " {'_id': 'HR Coordinator',\n",
       "  'job_title': 'HR Coordinator',\n",
       "  'median_salary': 57042},\n",
       " {'_id': 'Accounting Manager',\n",
       "  'job_title': 'Accounting Manager',\n",
       "  'median_salary': 119431},\n",
       " {'_id': 'Sales Representative',\n",
       "  'job_title': 'Sales Representative',\n",
       "  'median_salary': 70865},\n",
       " {'_id': 'Office Manager',\n",
       "  'job_title': 'Office Manager',\n",
       "  'median_salary': 98102},\n",
       " {'_id': 'Sales Manager (East)',\n",
       "  'job_title': 'Sales Manager (East)',\n",
       "  'median_salary': 92317},\n",
       " {'_id': 'Recruiter', 'job_title': 'Recruiter', 'median_salary': 62345},\n",
       " {'_id': 'Database Administrator',\n",
       "  'job_title': 'Database Administrator',\n",
       "  'median_salary': 88010},\n",
       " {'_id': 'Sales Manager (West)',\n",
       "  'job_title': 'Sales Manager (West)',\n",
       "  'median_salary': 114126},\n",
       " {'_id': 'Senior Marketing Specialist',\n",
       "  'job_title': 'Senior Marketing Specialist',\n",
       "  'median_salary': 104083},\n",
       " {'_id': 'Cybersecurity Analyst',\n",
       "  'job_title': 'Cybersecurity Analyst',\n",
       "  'median_salary': 86839},\n",
       " {'_id': 'Benefits Specialist',\n",
       "  'job_title': 'Benefits Specialist',\n",
       "  'median_salary': 70000},\n",
       " {'_id': 'Systems Administrator',\n",
       "  'job_title': 'Systems Administrator',\n",
       "  'median_salary': 81839},\n",
       " {'_id': 'Marketing Analyst',\n",
       "  'job_title': 'Marketing Analyst',\n",
       "  'median_salary': 80145},\n",
       " {'_id': 'Chief Technology Officer',\n",
       "  'job_title': 'Chief Technology Officer',\n",
       "  'median_salary': 230000},\n",
       " {'_id': 'IT Manager', 'job_title': 'IT Manager', 'median_salary': 118981},\n",
       " {'_id': 'DevOps Engineer',\n",
       "  'job_title': 'DevOps Engineer',\n",
       "  'median_salary': 93432},\n",
       " {'_id': 'Chief Executive Officer',\n",
       "  'job_title': 'Chief Executive Officer',\n",
       "  'median_salary': 300000},\n",
       " {'_id': 'Account Executive',\n",
       "  'job_title': 'Account Executive',\n",
       "  'median_salary': 70000.0},\n",
       " {'_id': 'Financial Analyst',\n",
       "  'job_title': 'Financial Analyst',\n",
       "  'median_salary': 80707}]"
      ]
     },
     "execution_count": 50,
     "metadata": {},
     "output_type": "execute_result"
    }
   ],
   "source": [
    "result_by_role"
   ]
  },
  {
   "cell_type": "code",
   "execution_count": 51,
   "id": "d6117398-55db-4440-9735-d643798bec87",
   "metadata": {
    "tags": []
   },
   "outputs": [],
   "source": [
    "pipeline = [\n",
    "    {\"$unwind\": \"$employees\"},\n",
    "    \n",
    "    # Ensure all required fields exist\n",
    "    {\n",
    "        \"$match\": {\n",
    "            \"employees.salary.base_salary\": {\"$exists\": True},\n",
    "            \"employees.salary.bonus\": {\"$exists\": True},\n",
    "            \"employees.salary.deductions\": {\"$exists\": True},\n",
    "            \"employees.tax.estimated_withholding_amt\": {\"$exists\": True}\n",
    "        }\n",
    "    },\n",
    "    \n",
    "    # Compute net income\n",
    "    {\n",
    "        \"$project\": {\n",
    "            \"full_name\": \"$employees.full_name\",\n",
    "            \"job_title\": \"$employees.job_title\",\n",
    "            \"net_income\": {\n",
    "                \"$subtract\": [\n",
    "                    { \"$add\": [\n",
    "                        \"$employees.salary.base_salary\",\n",
    "                        \"$employees.salary.bonus\"\n",
    "                    ]},\n",
    "                    {\n",
    "                        \"$add\": [\n",
    "                            \"$employees.salary.deductions\",\n",
    "                            \"$employees.tax.estimated_withholding_amt\"\n",
    "                        ]\n",
    "                    }\n",
    "                ]\n",
    "            }\n",
    "        }\n",
    "    }\n",
    "]\n",
    "\n",
    "net_income_result = list(db.departments_nested.aggregate(pipeline))"
   ]
  },
  {
   "cell_type": "code",
   "execution_count": 52,
   "id": "c529344c-61be-4123-83c4-c99ae4ef9012",
   "metadata": {
    "tags": []
   },
   "outputs": [
    {
     "data": {
      "text/plain": [
       "[{'_id': ObjectId('6837261278258af7fe93f473'),\n",
       "  'full_name': 'Mary Robinson',\n",
       "  'job_title': 'Marketing Director',\n",
       "  'net_income': 165852},\n",
       " {'_id': ObjectId('6837261278258af7fe93f473'),\n",
       "  'full_name': 'James Walker',\n",
       "  'job_title': 'Senior Marketing Specialist',\n",
       "  'net_income': 115223},\n",
       " {'_id': ObjectId('6837261278258af7fe93f473'),\n",
       "  'full_name': 'Ashley Young',\n",
       "  'job_title': 'Marketing Specialist',\n",
       "  'net_income': 85104},\n",
       " {'_id': ObjectId('6837261278258af7fe93f473'),\n",
       "  'full_name': 'Kevin Allen',\n",
       "  'job_title': 'Social Media Coordinator',\n",
       "  'net_income': 49306},\n",
       " {'_id': ObjectId('6837261278258af7fe93f473'),\n",
       "  'full_name': 'Margaret Scott',\n",
       "  'job_title': 'Content Strategist',\n",
       "  'net_income': 74430},\n",
       " {'_id': ObjectId('6837261278258af7fe93f473'),\n",
       "  'full_name': 'Richard Adams',\n",
       "  'job_title': 'Graphic Designer',\n",
       "  'net_income': 71034},\n",
       " {'_id': ObjectId('6837261278258af7fe93f473'),\n",
       "  'full_name': 'Nicole Nelson',\n",
       "  'job_title': 'SEO Specialist',\n",
       "  'net_income': 81311},\n",
       " {'_id': ObjectId('6837261278258af7fe93f473'),\n",
       "  'full_name': 'Christopher Carter',\n",
       "  'job_title': 'Marketing Analyst',\n",
       "  'net_income': 75795},\n",
       " {'_id': ObjectId('6837261278258af7fe93f473'),\n",
       "  'full_name': 'Michelle Mitchell',\n",
       "  'job_title': 'Public Relations Specialist',\n",
       "  'net_income': 80938},\n",
       " {'_id': ObjectId('6837261278258af7fe93f474'),\n",
       "  'full_name': 'John Rodriguez',\n",
       "  'job_title': 'Sales Director',\n",
       "  'net_income': 174235},\n",
       " {'_id': ObjectId('6837261278258af7fe93f474'),\n",
       "  'full_name': 'Lisa Martinez',\n",
       "  'job_title': 'Sales Manager (East)',\n",
       "  'net_income': 99669},\n",
       " {'_id': ObjectId('6837261278258af7fe93f474'),\n",
       "  'full_name': 'Robert Gonzalez',\n",
       "  'job_title': 'Sales Manager (West)',\n",
       "  'net_income': 120154},\n",
       " {'_id': ObjectId('6837261278258af7fe93f474'),\n",
       "  'full_name': 'Patricia Wilson',\n",
       "  'job_title': 'Senior Sales Executive',\n",
       "  'net_income': 112829},\n",
       " {'_id': ObjectId('6837261278258af7fe93f474'),\n",
       "  'full_name': 'Thomas Moore',\n",
       "  'job_title': 'Sales Representative',\n",
       "  'net_income': 75556},\n",
       " {'_id': ObjectId('6837261278258af7fe93f474'),\n",
       "  'full_name': 'Karen Taylor',\n",
       "  'job_title': 'Sales Representative',\n",
       "  'net_income': 80009},\n",
       " {'_id': ObjectId('6837261278258af7fe93f474'),\n",
       "  'full_name': 'Brian Jackson',\n",
       "  'job_title': 'Sales Representative',\n",
       "  'net_income': 66317},\n",
       " {'_id': ObjectId('6837261278258af7fe93f474'),\n",
       "  'full_name': 'Jennifer Martin',\n",
       "  'job_title': 'Account Executive',\n",
       "  'net_income': 85581},\n",
       " {'_id': ObjectId('6837261278258af7fe93f474'),\n",
       "  'full_name': 'Joseph Lee',\n",
       "  'job_title': 'Account Executive',\n",
       "  'net_income': 88642},\n",
       " {'_id': ObjectId('6837261278258af7fe93f474'),\n",
       "  'full_name': 'Stephanie Perez',\n",
       "  'job_title': 'Sales Associate',\n",
       "  'net_income': 55914},\n",
       " {'_id': ObjectId('6837261278258af7fe93f474'),\n",
       "  'full_name': 'Matthew Thompson',\n",
       "  'job_title': 'Sales Associate',\n",
       "  'net_income': 56998},\n",
       " {'_id': ObjectId('6837261278258af7fe93f474'),\n",
       "  'full_name': 'Barbara White',\n",
       "  'job_title': 'Sales Associate',\n",
       "  'net_income': 55394},\n",
       " {'_id': ObjectId('6837261278258af7fe93f474'),\n",
       "  'full_name': 'David Harris',\n",
       "  'job_title': 'Senior Sales Executive',\n",
       "  'net_income': 128364},\n",
       " {'_id': ObjectId('6837261278258af7fe93f474'),\n",
       "  'full_name': 'Susan Sanchez',\n",
       "  'job_title': 'Sales Representative',\n",
       "  'net_income': 71531},\n",
       " {'_id': ObjectId('6837261278258af7fe93f474'),\n",
       "  'full_name': 'Jessica Clark',\n",
       "  'job_title': 'Sales Representative',\n",
       "  'net_income': 64740},\n",
       " {'_id': ObjectId('6837261278258af7fe93f474'),\n",
       "  'full_name': 'Daniel Ramirez',\n",
       "  'job_title': 'Account Executive',\n",
       "  'net_income': 89039},\n",
       " {'_id': ObjectId('6837261278258af7fe93f474'),\n",
       "  'full_name': 'Emily Lewis',\n",
       "  'job_title': 'Account Executive',\n",
       "  'net_income': 87924},\n",
       " {'_id': ObjectId('6837261278258af7fe93f474'),\n",
       "  'full_name': 'Mark Robinson',\n",
       "  'job_title': 'Sales Associate',\n",
       "  'net_income': 54011},\n",
       " {'_id': ObjectId('6837261278258af7fe93f474'),\n",
       "  'full_name': 'Linda Walker',\n",
       "  'job_title': 'Sales Associate',\n",
       "  'net_income': 55042},\n",
       " {'_id': ObjectId('6837261278258af7fe93f474'),\n",
       "  'full_name': 'Steven Young',\n",
       "  'job_title': 'Sales Associate',\n",
       "  'net_income': 56497},\n",
       " {'_id': ObjectId('6837261278258af7fe93f475'),\n",
       "  'full_name': 'Robert Williams',\n",
       "  'job_title': 'HR Manager',\n",
       "  'net_income': 115653},\n",
       " {'_id': ObjectId('6837261278258af7fe93f475'),\n",
       "  'full_name': 'Nancy Wilson',\n",
       "  'job_title': 'HR Generalist',\n",
       "  'net_income': 62918},\n",
       " {'_id': ObjectId('6837261278258af7fe93f475'),\n",
       "  'full_name': 'Brian Anderson',\n",
       "  'job_title': 'Recruiter',\n",
       "  'net_income': 62380},\n",
       " {'_id': ObjectId('6837261278258af7fe93f475'),\n",
       "  'full_name': 'Jessica Thomas',\n",
       "  'job_title': 'HR Coordinator',\n",
       "  'net_income': 51668},\n",
       " {'_id': ObjectId('6837261278258af7fe93f475'),\n",
       "  'full_name': 'Susan Taylor',\n",
       "  'job_title': 'Benefits Specialist',\n",
       "  'net_income': 85568},\n",
       " {'_id': ObjectId('6837261278258af7fe93f476'),\n",
       "  'full_name': 'David Moore',\n",
       "  'job_title': 'Chief Technology Officer',\n",
       "  'net_income': 221452},\n",
       " {'_id': ObjectId('6837261278258af7fe93f476'),\n",
       "  'full_name': 'Karen Jackson',\n",
       "  'job_title': 'IT Manager',\n",
       "  'net_income': 112785},\n",
       " {'_id': ObjectId('6837261278258af7fe93f476'),\n",
       "  'full_name': 'Ryan Martin',\n",
       "  'job_title': 'Senior Software Engineer',\n",
       "  'net_income': 115957},\n",
       " {'_id': ObjectId('6837261278258af7fe93f476'),\n",
       "  'full_name': 'Anthony Lee',\n",
       "  'job_title': 'Software Engineer',\n",
       "  'net_income': 82429},\n",
       " {'_id': ObjectId('6837261278258af7fe93f476'),\n",
       "  'full_name': 'Emily Perez',\n",
       "  'job_title': 'Software Engineer',\n",
       "  'net_income': 85937},\n",
       " {'_id': ObjectId('6837261278258af7fe93f476'),\n",
       "  'full_name': 'William Thompson',\n",
       "  'job_title': 'Systems Administrator',\n",
       "  'net_income': 75921},\n",
       " {'_id': ObjectId('6837261278258af7fe93f476'),\n",
       "  'full_name': 'Elizabeth White',\n",
       "  'job_title': 'Network Engineer',\n",
       "  'net_income': 78046},\n",
       " {'_id': ObjectId('6837261278258af7fe93f476'),\n",
       "  'full_name': 'Mark Harris',\n",
       "  'job_title': 'IT Support Specialist',\n",
       "  'net_income': 78083},\n",
       " {'_id': ObjectId('6837261278258af7fe93f476'),\n",
       "  'full_name': 'Sandra Sanchez',\n",
       "  'job_title': 'IT Support Specialist',\n",
       "  'net_income': 77749},\n",
       " {'_id': ObjectId('6837261278258af7fe93f476'),\n",
       "  'full_name': 'Daniel Clark',\n",
       "  'job_title': 'Database Administrator',\n",
       "  'net_income': 78134},\n",
       " {'_id': ObjectId('6837261278258af7fe93f476'),\n",
       "  'full_name': 'Barbara Ramirez',\n",
       "  'job_title': 'Cybersecurity Analyst',\n",
       "  'net_income': 79931},\n",
       " {'_id': ObjectId('6837261278258af7fe93f476'),\n",
       "  'full_name': 'Paul Lewis',\n",
       "  'job_title': 'DevOps Engineer',\n",
       "  'net_income': 85025},\n",
       " {'_id': ObjectId('6837261278258af7fe93f477'),\n",
       "  'full_name': 'Michael Smith',\n",
       "  'job_title': 'Chief Executive Officer',\n",
       "  'net_income': 298992},\n",
       " {'_id': ObjectId('6837261278258af7fe93f477'),\n",
       "  'full_name': 'Sarah Davis',\n",
       "  'job_title': 'Executive Assistant',\n",
       "  'net_income': 50270},\n",
       " {'_id': ObjectId('6837261278258af7fe93f477'),\n",
       "  'full_name': 'Joseph Jones',\n",
       "  'job_title': 'Office Manager',\n",
       "  'net_income': 91802},\n",
       " {'_id': ObjectId('6837261278258af7fe93f478'),\n",
       "  'full_name': 'Patricia Johnson',\n",
       "  'job_title': 'Chief Financial Officer',\n",
       "  'net_income': 217258},\n",
       " {'_id': ObjectId('6837261278258af7fe93f478'),\n",
       "  'full_name': 'Charles Brown',\n",
       "  'job_title': 'Accounting Manager',\n",
       "  'net_income': 113139},\n",
       " {'_id': ObjectId('6837261278258af7fe93f478'),\n",
       "  'full_name': 'Steven Miller',\n",
       "  'job_title': 'Senior Accountant',\n",
       "  'net_income': 112877},\n",
       " {'_id': ObjectId('6837261278258af7fe93f478'),\n",
       "  'full_name': 'Jennifer Garcia',\n",
       "  'job_title': 'Accountant',\n",
       "  'net_income': 54789},\n",
       " {'_id': ObjectId('6837261278258af7fe93f478'),\n",
       "  'full_name': 'Matthew Martinez',\n",
       "  'job_title': 'Financial Analyst',\n",
       "  'net_income': 71251},\n",
       " {'_id': ObjectId('6837261278258af7fe93f478'),\n",
       "  'full_name': 'Linda Hernandez',\n",
       "  'job_title': 'Payroll Specialist',\n",
       "  'net_income': 78447}]"
      ]
     },
     "execution_count": 52,
     "metadata": {},
     "output_type": "execute_result"
    }
   ],
   "source": [
    "net_income_result"
   ]
  },
  {
   "cell_type": "code",
   "execution_count": null,
   "id": "d4555cc3-656d-436d-9273-08780e0c7d5f",
   "metadata": {},
   "outputs": [],
   "source": []
  }
 ],
 "metadata": {
  "kernelspec": {
   "display_name": "Python 3 (ipykernel)",
   "language": "python",
   "name": "python3"
  },
  "language_info": {
   "codemirror_mode": {
    "name": "ipython",
    "version": 3
   },
   "file_extension": ".py",
   "mimetype": "text/x-python",
   "name": "python",
   "nbconvert_exporter": "python",
   "pygments_lexer": "ipython3",
   "version": "3.11.5"
  }
 },
 "nbformat": 4,
 "nbformat_minor": 5
}
